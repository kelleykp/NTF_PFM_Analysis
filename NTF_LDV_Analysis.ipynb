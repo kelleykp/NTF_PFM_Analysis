{
 "cells": [
  {
   "cell_type": "markdown",
   "metadata": {
    "colab_type": "text",
    "id": "DgW8hvM-9YZG"
   },
   "source": [
    "# Relaxation LDV Experiment\n",
    "\n",
    "May 15th, 2020\n",
    "\n",
    "Notebook by R. Vasudevan\n",
    "and Kyle Kelley\n",
    "\n",
    "NTF analysis on interferometric displacement sensing measurements using relaxation spectroscopy.\n"
   ]
  },
  {
   "cell_type": "markdown",
   "metadata": {
    "colab_type": "text",
    "id": "pw8O1oVT9YZI"
   },
   "source": [
    "# Install and import necessary packages"
   ]
  },
  {
   "cell_type": "code",
   "execution_count": null,
   "metadata": {
    "colab": {
     "base_uri": "https://localhost:8080/",
     "height": 1000
    },
    "colab_type": "code",
    "executionInfo": {
     "elapsed": 34216,
     "status": "ok",
     "timestamp": 1576700044373,
     "user": {
      "displayName": "Kyle Kelley",
      "photoUrl": "",
      "userId": "00048841382213338300"
     },
     "user_tz": 300
    },
    "id": "DF5TV_rA9iPd",
    "outputId": "99d632d3-4b9e-42d9-ea71-95c7eb4cae8a"
   },
   "outputs": [],
   "source": [
    "!pip install tensorly pyUSID"
   ]
  },
  {
   "cell_type": "code",
   "execution_count": null,
   "metadata": {
    "colab": {},
    "colab_type": "code",
    "id": "RXS0Q-YP9YZK"
   },
   "outputs": [],
   "source": [
    "import numpy as np\n",
    "import matplotlib.pyplot as plt\n",
    "import pyUSID as usid\n",
    "import h5py\n",
    "import os\n",
    "from matplotlib.animation import FuncAnimation\n",
    "import tensorly as tl\n",
    "from tensorly.decomposition import parafac\n",
    "from mpl_toolkits.axes_grid1 import make_axes_locatable\n",
    "import tensorly as tl\n",
    "from tensorly.decomposition import non_negative_parafac\n",
    "from tensorly.decomposition import non_negative_tucker\n",
    "from tensorly.decomposition import robust_pca\n",
    "from tensorly.decomposition import parafac\n",
    "from sklearn.decomposition import NMF\n",
    "from google.colab import files\n",
    "from pylab import *\n",
    "from scipy.optimize import curve_fit\n",
    "from matplotlib import colors\n",
    "from scipy.cluster.vq import whiten, kmeans, vq\n",
    "import scipy\n",
    "from tensorly import metrics\n",
    "import torch\n",
    "from scipy.ndimage.interpolation import rotate"
   ]
  },
  {
   "cell_type": "code",
   "execution_count": null,
   "metadata": {
    "colab": {
     "base_uri": "https://localhost:8080/",
     "height": 51
    },
    "colab_type": "code",
    "executionInfo": {
     "elapsed": 37382,
     "status": "ok",
     "timestamp": 1576700053442,
     "user": {
      "displayName": "Kyle Kelley",
      "photoUrl": "",
      "userId": "00048841382213338300"
     },
     "user_tz": 300
    },
    "id": "F7PxKnTFaQfT",
    "outputId": "400a1006-e04b-48fa-a728-ac4da0a09c54"
   },
   "outputs": [],
   "source": [
    "!pip install SGMLParseError\n"
   ]
  },
  {
   "cell_type": "code",
   "execution_count": null,
   "metadata": {
    "colab": {},
    "colab_type": "code",
    "id": "7dW_Qhz8lg8s"
   },
   "outputs": [],
   "source": [
    "from matplotlib.colors import ListedColormap\n",
    "from matplotlib.colors import BoundaryNorm"
   ]
  },
  {
   "cell_type": "markdown",
   "metadata": {
    "colab_type": "text",
    "id": "z_Wydy9B9YZN"
   },
   "source": [
    "# Load and Calibrate Data \n",
    "\n",
    "Let's load the data. Need to get it from google drive..\n",
    "\n",
    "We also calibrate it given the sensitivity of the LDV, to convert it to pm."
   ]
  },
  {
   "cell_type": "code",
   "execution_count": null,
   "metadata": {
    "colab": {
     "base_uri": "https://localhost:8080/",
     "height": 119
    },
    "colab_type": "code",
    "executionInfo": {
     "elapsed": 42047,
     "status": "ok",
     "timestamp": 1576700061418,
     "user": {
      "displayName": "Kyle Kelley",
      "photoUrl": "",
      "userId": "00048841382213338300"
     },
     "user_tz": 300
    },
    "id": "kPZ9J47e9qqr",
    "outputId": "75a6fa90-a5dc-4c78-9386-9ecbd1670f79"
   },
   "outputs": [],
   "source": [
    "# %%shell\n",
    "#Data available upon request.\n"
   ]
  },
  {
   "cell_type": "code",
   "execution_count": null,
   "metadata": {
    "colab": {
     "base_uri": "https://localhost:8080/",
     "height": 476
    },
    "colab_type": "code",
    "executionInfo": {
     "elapsed": 358,
     "status": "ok",
     "timestamp": 1576700083132,
     "user": {
      "displayName": "Kyle Kelley",
      "photoUrl": "",
      "userId": "00048841382213338300"
     },
     "user_tz": 300
    },
    "id": "aqfb0eq19YZO",
    "outputId": "7c211534-c712-45e1-96db-525b06296c71"
   },
   "outputs": [],
   "source": [
    "folder = r'.'\n",
    "file_name = #h5 file name\n",
    "h5_f = h5py.File(os.path.join(folder, file_name), 'r+')\n",
    "usid.hdf_utils.print_tree(h5_f)"
   ]
  },
  {
   "cell_type": "code",
   "execution_count": null,
   "metadata": {
    "colab": {},
    "colab_type": "code",
    "id": "LS-zskO39YZQ"
   },
   "outputs": [],
   "source": [
    "raw_data = usid.hdf_utils.find_dataset(h5_f, 'Raw_Data')[-1]\n",
    "spec_vals = h5_f['Measurement_000/Channel_000/Raw_Data-SHO_Fit_000/Spectroscopic_Values']\n",
    "spec_vals_nosho = h5_f['Measurement_000/Channel_000/Spectroscopic_Values']\n",
    "spec_inds = h5_f['Measurement_000/Channel_000/Raw_Data-SHO_Fit_000/Spectroscopic_Indices']\n",
    "pos_inds = h5_f['Measurement_000/Channel_000/Position_Indices']\n",
    "pos_vals = h5_f['Measurement_000/Channel_000/Position_Values']\n",
    "\n",
    "#Convert to proper units\n",
    "num_freq_steps = len(np.unique(h5_f['Measurement_000/Channel_000/Spectroscopic_Values'][0,:]))\n",
    "ldv_correction_factor = 20.0 / (2*np.pi*(spec_vals_nosho[0,num_freq_steps//2]))*1000000    ### produces nm/V correction factor i.e. sensitivity factor\n",
    "data_mat = raw_data[:,num_freq_steps//2::num_freq_steps]\n",
    "\n",
    "#Get the time vector\n",
    "time_per_step = usid.hdf_utils.get_attributes(h5_f['Measurement_000'])['BE_pulse_duration_[s]']"
   ]
  },
  {
   "cell_type": "markdown",
   "metadata": {
    "colab_type": "text",
    "id": "87vAivqo9YZS"
   },
   "source": [
    "# Correct the Phase and plot averages\n",
    "\n",
    "There's always a pesky phase offset to deal with. Let's just plot the histogram and shift it over so it is centered around 0 and pi radians..."
   ]
  },
  {
   "cell_type": "code",
   "execution_count": null,
   "metadata": {
    "colab": {},
    "colab_type": "code",
    "id": "6O07v03e9YZT"
   },
   "outputs": [],
   "source": [
    "amp = np.abs(data_mat[:])* ldv_correction_factor*1000\n",
    "phase = np.angle(data_mat[:])"
   ]
  },
  {
   "cell_type": "code",
   "execution_count": null,
   "metadata": {
    "colab": {
     "base_uri": "https://localhost:8080/",
     "height": 513
    },
    "colab_type": "code",
    "executionInfo": {
     "elapsed": 1338,
     "status": "ok",
     "timestamp": 1576700088985,
     "user": {
      "displayName": "Kyle Kelley",
      "photoUrl": "",
      "userId": "00048841382213338300"
     },
     "user_tz": 300
    },
    "id": "_mT7oHbd9YZV",
    "outputId": "0ad5ad50-d401-47d4-f55c-02da44ae9e12"
   },
   "outputs": [],
   "source": [
    "plt.figure()\n",
    "plt.hist(phase.ravel(), bins = 100);\n",
    "phase_offset = 1.41\n",
    "phase_new = -1*(phase - phase_offset)\n",
    "plt.figure()\n",
    "plt.hist(phase_new.ravel(), bins = 100);"
   ]
  },
  {
   "cell_type": "code",
   "execution_count": null,
   "metadata": {
    "colab": {
     "base_uri": "https://localhost:8080/",
     "height": 275
    },
    "colab_type": "code",
    "executionInfo": {
     "elapsed": 1250,
     "status": "ok",
     "timestamp": 1576700089295,
     "user": {
      "displayName": "Kyle Kelley",
      "photoUrl": "",
      "userId": "00048841382213338300"
     },
     "user_tz": 300
    },
    "id": "3ww1v1Nd9YZa",
    "outputId": "be102b1b-6e90-4085-96fb-22ec30ae8ccd"
   },
   "outputs": [],
   "source": [
    "#Plot average relaxation spectra (blue) and voltage waveform (red)\n",
    "\n",
    "step = np.arange(spec_vals.shape[1])*time_per_step\n",
    "\n",
    "\n",
    "fig1 = plt.figure()\n",
    "ax1 = fig1.add_subplot(111)\n",
    "ax1.tick_params(labelsize = 16)\n",
    "plt.xlim(-0.5,14.5)\n",
    "plt.ylim(7,45)\n",
    "line1 = ax1.plot(step, amp.mean(axis=0), color = 'blue')\n",
    "ax2 = fig1.add_subplot(111, sharex=ax1, frameon=False)\n",
    "line2 = ax2.plot(step,spec_vals[1,:], color = 'red')\n",
    "ax2.yaxis.tick_right()\n",
    "plt.ylim(-20,20)\n",
    "ax2.tick_params(labelsize = 16)\n",
    "ax2.yaxis.set_label_position(\"right\")\n",
    "plt.tight_layout()\n"
   ]
  },
  {
   "cell_type": "markdown",
   "metadata": {
    "colab_type": "text",
    "id": "18WqNUqW9YZf"
   },
   "source": [
    "# Build the Piezoresponse Matrices"
   ]
  },
  {
   "cell_type": "code",
   "execution_count": null,
   "metadata": {
    "colab": {},
    "colab_type": "code",
    "id": "aMnJyQ7F9YZg"
   },
   "outputs": [],
   "source": [
    "a = np.diff(spec_vals[1,:])\n",
    "num_DC_voltages = len(a[a<0])\n",
    "dc_vec = spec_vals[1,:][spec_vals[2,:]==1]\n",
    "dc_vec_unique=[]\n",
    "dc_vec_unique.append(dc_vec[0]) #Start with the initial voltage\n",
    "\n",
    "for ind in range(1,len(dc_vec)):\n",
    "    if dc_vec[ind] != dc_vec[ind-1]:\n",
    "        dc_vec_unique.append(dc_vec[ind])\n",
    "\n",
    "dc_vec_unique_arr = np.zeros(len(dc_vec_unique)+1)\n",
    "dc_vec_unique_arr[:len(dc_vec_unique_arr)//2] = dc_vec_unique[:len(dc_vec_unique_arr)//2]\n",
    "dc_vec_unique_arr[len(dc_vec_unique_arr)//2] = dc_vec_unique[(len(dc_vec_unique_arr)//2) -1]\n",
    "dc_vec_unique_arr[len(dc_vec_unique_arr)//2 +1:] = dc_vec_unique[len(dc_vec_unique_arr)//2 :]\n",
    "\n",
    "num_dc_voltages = len(dc_vec_unique_arr)\n",
    "\n",
    "PR_mat = amp*np.cos(phase_new)\n",
    "\n",
    "\n",
    "pos_dim_sizes = [pos_inds[:,0].max()+1, pos_inds[:,1].max()+1]\n",
    "\n",
    "PR_mat_OF = PR_mat[:,spec_vals[2,:]==0]\n",
    "# PR_mat_OF = PR_mat_OF - np.min(PR_mat_OF) +100\n",
    "PR_mat_IF = PR_mat[:,spec_vals[2,:]==1]\n",
    "\n",
    "#PR_mat_ndim = PR_mat.reshape(pos_dim_sizes[0], pos_dim_sizes[1],-1,len(np.unique(spec_vals[0,:])))\n",
    "\n",
    "PR_mat_OF_ndim = PR_mat_OF.reshape(pos_dim_sizes[0], pos_dim_sizes[1],num_dc_voltages,-1)\n",
    "PR_mat_IF_ndim = PR_mat_IF.reshape(pos_dim_sizes[0], pos_dim_sizes[1],num_dc_voltages,-1)\n",
    "\n",
    "\n",
    "phase_mat_OF = phase_new[:,spec_vals[2,:]==0]\n",
    "phase_mat_OF_ndim = phase_mat_OF.reshape(pos_dim_sizes[0], pos_dim_sizes[1],num_dc_voltages,-1)\n",
    "\n",
    "amp_mat_OF = amp[:,spec_vals[2,:]==0]\n",
    "amp_mat_OF_ndim = amp_mat_OF.reshape(pos_dim_sizes[0], pos_dim_sizes[1],num_dc_voltages,-1)\n",
    "\n",
    "time_vec_OF = np.arange(0, PR_mat_OF_ndim.shape[-1])*time_per_step\n",
    "time_vec_IF = np.arange(0, PR_mat_IF_ndim.shape[-1])*time_per_step"
   ]
  },
  {
   "cell_type": "markdown",
   "metadata": {
    "colab_type": "text",
    "id": "U20OjP6e9YZi"
   },
   "source": [
    "# Plot spatial maps"
   ]
  },
  {
   "cell_type": "code",
   "execution_count": null,
   "metadata": {
    "colab": {
     "base_uri": "https://localhost:8080/",
     "height": 1000
    },
    "colab_type": "code",
    "executionInfo": {
     "elapsed": 3834,
     "status": "ok",
     "timestamp": 1576700094927,
     "user": {
      "displayName": "Kyle Kelley",
      "photoUrl": "",
      "userId": "00048841382213338300"
     },
     "user_tz": 300
    },
    "id": "E_Q5Vtpk9YZj",
    "outputId": "46ea3a04-9f7a-4374-c709-c9eb6af17e5f"
   },
   "outputs": [],
   "source": [
    "#Let's plot spatially\n",
    "\n",
    "PR_mat_OF_ndim = PR_mat_OF.reshape(pos_dim_sizes[0], pos_dim_sizes[1],num_dc_voltages,-1)\n",
    "amp_mat_OF_ndim  = amp_mat_OF.reshape(pos_dim_sizes[0], pos_dim_sizes[1],num_dc_voltages,-1)\n",
    "#PR_mat_IF_ndim = PR_mat_IF.reshape(pos_dim_sizes[0], pos_dim_sizes[1],num_dc_voltages,-1)\n",
    "fig, axes = plt.subplots(nrows=4,ncols=4, figsize = (12,12))\n",
    "\n",
    "for ind, ax in enumerate(axes.flat):\n",
    "    \n",
    "    ax.imshow(phase_mat_OF_ndim[:,:,ind,0])\n",
    "    ax.set_title('Phase, V={}V t=0'.format(np.round(dc_vec_unique_arr[ind],2)))\n",
    "    ax.axis('off')\n",
    "fig.tight_layout()\n",
    "\n",
    "fig.tight_layout(rect=[0, 0.03, 1, 0.95])\n",
    "fig.suptitle('Phase Images Off-field', fontsize =18)\n",
    "\n",
    "fig, axes = plt.subplots(nrows=4,ncols=4, figsize = (12,12))\n",
    "\n",
    "for ind, ax in enumerate(axes.flat):\n",
    "    \n",
    "    ax.imshow(PR_mat_OF_ndim[:,:,ind,0])\n",
    "    ax.set_title('PR, V={}V t=0'.format(np.round(dc_vec_unique_arr[ind],2)))\n",
    "#     ax.axis('off')\n",
    "fig.tight_layout(rect=[0, 0.03, 1, 0.95])\n",
    "fig.suptitle('PR Images Off-field', fontsize =18)\n"
   ]
  },
  {
   "cell_type": "code",
   "execution_count": null,
   "metadata": {
    "colab": {
     "base_uri": "https://localhost:8080/",
     "height": 545
    },
    "colab_type": "code",
    "executionInfo": {
     "elapsed": 3932,
     "status": "ok",
     "timestamp": 1576700095427,
     "user": {
      "displayName": "Kyle Kelley",
      "photoUrl": "",
      "userId": "00048841382213338300"
     },
     "user_tz": 300
    },
    "id": "Zix6jwMGguXb",
    "outputId": "843b41f3-4f13-4e41-9ee1-7966eb6d361d"
   },
   "outputs": [],
   "source": [
    "#Plots spatial defined line of piezoresponse vs voltage in a range of relaxation times \n",
    "\n",
    "derp = []\n",
    "start_xpix = 50\n",
    "yrow_pix = 54\n",
    "line_length = 10\n",
    "num_time_step = 10\n",
    "\n",
    "r_data = PR_mat_OF_ndim\n",
    "\n",
    "for jj in range(line_length):   #chooses the pixels to examine - swith x and y of PR mat to change to vertical\n",
    "  \n",
    "  derp.append(r_data[start_xpix+jj,yrow_pix,:,:num_time_step])\n",
    "\n",
    "derp = np.array(derp)\n",
    "\n",
    "colors = plt.cm.get_cmap('plasma',PR_mat_OF_ndim.shape[2])\n",
    "\n",
    "n_linex = np.arange(start_xpix, start_xpix+jj,1)  \n",
    "n_liney = np.full(jj,yrow_pix)\n",
    "\n",
    "plt.figure()\n",
    "plt.imshow(r_data[:,:,8,0], clim = (-50,70), cmap = 'viridis')\n",
    "plt.colorbar()\n",
    "plt.axis('off')\n",
    "\n",
    "spotx = [26,13,38,55]\n",
    "spoty = [50,13,39,54]\n",
    "imag_color =  ['blue' , 'red' , 'magenta', 'orange']\n",
    "name  = ['c-domain 1', 'a-domain', 'a-c domain wall' , 'c-domain 2']\n",
    "\n",
    "plt.figure()\n",
    "\n",
    "spot = 3\n",
    "tlen =84\n",
    "for ii in range(0,tlen,4):\n",
    "\n",
    "  plt.plot(dc_vec_unique_arr[:],r_data[spotx[spot],spoty[spot],:,ii], color = colors(ii/tlen))\n",
    "\n",
    "plt.legend(frameon = False)\n",
    "plt.ylim(-70,70)\n",
    "plt.ylabel('Piezoresponse [pm]', size = 18)\n",
    "plt.xlabel('Voltage [V]', size = 18)\n",
    "plt.xticks(size = 16)\n",
    "plt.yticks(size = 16)\n",
    "plt.tight_layout()"
   ]
  },
  {
   "cell_type": "markdown",
   "metadata": {
    "colab_type": "text",
    "id": "Uk04cOmb9YZl"
   },
   "source": [
    "# Perform NTF\n",
    "\n",
    "Here, we perform non-negative tensor factorization. We start with the off-field full piezoresponse"
   ]
  },
  {
   "cell_type": "code",
   "execution_count": null,
   "metadata": {
    "colab": {
     "base_uri": "https://localhost:8080/",
     "height": 1000
    },
    "colab_type": "code",
    "executionInfo": {
     "elapsed": 125425,
     "status": "ok",
     "timestamp": 1576700217798,
     "user": {
      "displayName": "Kyle Kelley",
      "photoUrl": "",
      "userId": "00048841382213338300"
     },
     "user_tz": 300
    },
    "id": "etqVLeDG9YZl",
    "outputId": "09eef89c-f791-45fd-c94e-68dd7ea83832"
   },
   "outputs": [],
   "source": [
    "num_ranks = 4\n",
    "\n",
    "data = tl.tensor(amp_mat_OF_ndim[:,:,:,:].reshape(amp.shape[0],amp_mat_OF_ndim.shape[2],amp_mat_OF_ndim.shape[3] ))\n",
    "\n",
    "weights, factors = non_negative_parafac(data, rank=num_ranks,n_iter_max = 1000, tol = 100E-30000000000000000000)\n",
    "fig, axes = plt.subplots(nrows = num_ranks, ncols = 3, figsize = (15,15))\n",
    "\n",
    "def func(x, a, c, d, f, g):\n",
    "    return a*np.exp(-c*x) + f*np.exp(-g*x) + d \n",
    "\n",
    "popt_pr = []\n",
    "pcov_pr = []\n",
    "  \n",
    "for row in range(num_ranks):\n",
    "    im = axes[row,0].imshow(np.sqrt(factors[0][:,row].reshape(pos_dim_sizes)/(np.max(factors[0][:,row]))),clim = (0,1))  \n",
    "    \n",
    "    axes[row,0].axis('off')\n",
    "    divider = make_axes_locatable(axes[row,0])\n",
    "    cax = divider.append_axes(\"right\", size=\"5%\", pad=0.08) #space for colorbar\n",
    "    plt.colorbar(im, cax = cax)\n",
    "    x = time_vec_OF[1:]  \n",
    "    y = factors[2][1:,row]\n",
    "    popt, pcov = curve_fit(func, x, y, p0=(1e-1, 10, 0,1,1),maxfev = 100000, absolute_sigma = True)\n",
    "    popt_pr.append(popt)\n",
    "    pcov_pr.append(pcov)\n",
    "    yy=func(x,*popt)\n",
    "    axes[row,1].plot(dc_vec_unique_arr, factors[1][:,row],color = 'green')\n",
    "    axes[row,1].set_xlabel('Voltage [V]', size =20)\n",
    "    axes[row,1].set_ylabel('Scaling Factor', size =20)\n",
    "    axes[row,1].set_ylim(0,0.75)\n",
    "    axes[row,1].tick_params(labelsize=16)\n",
    "    axes[row,2].plot(time_vec_OF, factors[2][:,row], 'o', color = 'red', label = 'Raw')\n",
    "    axes[row,2].plot(x,yy, '--', color = 'black', label = 'Two Exp Fit')\n",
    "    axes[row,2].set_xlabel('Time [s]',size =20)\n",
    "    axes[row,2].set_ylabel('PR Amp [a.u.]', size =20)\n",
    "    axes[row,2].tick_params(labelsize=16)\n",
    "    axes[row,2].legend(frameon= False)\n",
    "fig.tight_layout(rect=[0, 0.03, 1, 0.95])\n",
    "fig.suptitle('All voltages relaxations Off-field', fontsize =18)"
   ]
  },
  {
   "cell_type": "code",
   "execution_count": null,
   "metadata": {
    "colab": {
     "base_uri": "https://localhost:8080/",
     "height": 1000
    },
    "colab_type": "code",
    "executionInfo": {
     "elapsed": 126330,
     "status": "ok",
     "timestamp": 1576700220129,
     "user": {
      "displayName": "Kyle Kelley",
      "photoUrl": "",
      "userId": "00048841382213338300"
     },
     "user_tz": 300
    },
    "id": "j3uSPS0oDnLZ",
    "outputId": "f59ef17a-1898-41ff-8adf-61aab1827ef1"
   },
   "outputs": [],
   "source": [
    "def func(x, a, c, d, f, g):\n",
    "    return a*np.exp(-c*x) + f*np.exp(-g*x) + d \n",
    "fig, axes = plt.subplots(nrows = num_ranks, ncols = 3, figsize = (15,15))\n",
    "popt_pr = []\n",
    "pcov_pr = []\n",
    "  \n",
    "for row in range(num_ranks):\n",
    "    im = axes[row,0].imshow((factors[0][:,row].reshape(pos_dim_sizes)/(np.max(factors[0][:,row]))),clim = (0,1))  \n",
    "    axes[row,0].axis('off')\n",
    "    divider = make_axes_locatable(axes[row,0])\n",
    "    cax = divider.append_axes(\"right\", size=\"5%\", pad=0.08) #space for colorbar\n",
    "    plt.colorbar(im, cax = cax)\n",
    "    x = time_vec_OF[1:]  \n",
    "    y = factors[2][1:,row]\n",
    "    popt, pcov = curve_fit(func, x, y, p0=(1e-1, 10, 0,1,1),maxfev = 100000, absolute_sigma = True)\n",
    "    popt_pr.append(popt)\n",
    "    pcov_pr.append(pcov)\n",
    "    yy=func(x,*popt)\n",
    "    axes[row,1].plot(dc_vec_unique_arr, factors[1][:,row],color = 'green')\n",
    "    axes[row,1].set_xlabel('Voltage [V]', size =20)\n",
    "    axes[row,1].set_ylabel('Scaling Factor', size =20)\n",
    "    axes[row,1].set_ylim(0,0.75)\n",
    "    axes[row,1].tick_params(labelsize=16)\n",
    "    axes[row,2].plot(time_vec_OF, factors[2][:,row], 'o', color = 'red', label = 'Raw')\n",
    "    axes[row,2].plot(x,yy, '--', color = 'black', label = 'Two Exp Fit')\n",
    "    axes[row,2].set_xlabel('Time [s]',size =20)\n",
    "    axes[row,2].set_ylabel('PR Amp [a.u.]', size =20)\n",
    "    axes[row,2].tick_params(labelsize=16)\n",
    "    axes[row,2].legend(frameon= False)\n",
    "fig.tight_layout(rect=[0, 0.03, 1, 0.95])"
   ]
  },
  {
   "cell_type": "code",
   "execution_count": null,
   "metadata": {
    "colab": {
     "base_uri": "https://localhost:8080/",
     "height": 464
    },
    "colab_type": "code",
    "executionInfo": {
     "elapsed": 126068,
     "status": "ok",
     "timestamp": 1576700220543,
     "user": {
      "displayName": "Kyle Kelley",
      "photoUrl": "",
      "userId": "00048841382213338300"
     },
     "user_tz": 300
    },
    "id": "zO9CgrvpSYpv",
    "outputId": "777242f8-269f-4769-aed6-7e29195e5a4c"
   },
   "outputs": [],
   "source": [
    "#Look at different exponential fits for NTF analysis\n",
    "row = 3\n",
    "\n",
    "def func_1(x, a, c, d):\n",
    "    return a*np.exp(-c*x) + d #f*np.exp(-g*x)\n",
    "\n",
    "def func_2(x, a, c, d,f,g):\n",
    "    return a*np.exp(-c*x) + d + f*np.exp(-g*x)\n",
    "\n",
    "def func_3(x, a, c, d):\n",
    "    return a*np.exp(-x**c)+ d \n",
    "\n",
    "x = time_vec_OF[1:]  \n",
    "y = factors[2][1:,row]\n",
    "\n",
    "popt, pcov = curve_fit(func_1, x, y, p0=(1e-1, 10, 0),maxfev = 100000, absolute_sigma = True) #p0=(1e-1, 10, 0,1,1)\n",
    "yy=func_1(x,*popt)\n",
    "\n",
    "popt2, pcov2 = curve_fit(func_2, x, y, p0=(1e-1, 10, 0,1,1),maxfev = 100000, absolute_sigma = True) #p0=(1e-1, 10, 0,1,1)\n",
    "yy2=func_2(x,*popt2)\n",
    "\n",
    "popt3, pcov3 = curve_fit(func_3, x, y, p0=(-1.63788657e+00,  7.53257186e-04,  6.78572883e-01),maxfev = 100000, absolute_sigma = True) #p0=(1e-1, 10, 0,1,1)\n",
    "yy3=func_3(x,*popt3)\n",
    "\n",
    "perr = np.sqrt(np.diag(pcov2))\n",
    "\n",
    "ss_res = np.sum((y - yy2) ** 2)\n",
    "ss_tot = np.sum((y - np.mean(y)) ** 2)\n",
    "r2 = 1 - (ss_res / ss_tot)\n",
    "print('R2 value for double exp: ' +str(r2))\n",
    "ss_res = np.sum((y - yy) ** 2)\n",
    "ss_tot = np.sum((y - np.mean(y)) ** 2)\n",
    "r2 = 1 - (ss_res / ss_tot)\n",
    "print('R2 value for single exp: ' +str(r2))\n",
    "\n",
    "print('Single exp t1: ' + str(1/popt[1]))\n",
    "\n",
    "print('Double exp t1: ' + str(1/popt2[1])+ ' and t2: ' + str(1/popt2[4]))\n",
    "\n",
    "fig = plt.figure(figsize=(12,6))\n",
    "grid = plt.GridSpec(6,12, wspace=0.4, hspace=4)\n",
    "\n",
    "img1 = fig.add_subplot(grid[:6, :6])\n",
    "img1.imshow(factors[0][:,row].reshape(pos_dim_sizes)/(np.max(factors[0][:,row])))\n",
    "img1.axis('off')\n",
    "\n",
    "img2 = fig.add_subplot(grid[0:3,7:])\n",
    "img2.plot(time_vec_OF, factors[2][:,row]*10, 'o', color = 'red', label = 'Raw')\n",
    "img2.plot(x,yy2*10, '--', color = 'black', label = 'Dual Exp Fit')\n",
    "img2.tick_params(labelsize=16)\n",
    "img2.legend(frameon= False, loc =4)\n",
    "\n",
    "img3 = fig.add_subplot(grid[3:,7:])\n",
    "img3.plot(dc_vec_unique_arr, factors[1][:,row],color = 'green')\n",
    "img3.tick_params(labelsize=16)\n",
    "img3.set_ylim(0,0.8)"
   ]
  },
  {
   "cell_type": "code",
   "execution_count": null,
   "metadata": {
    "colab": {
     "base_uri": "https://localhost:8080/",
     "height": 762
    },
    "colab_type": "code",
    "executionInfo": {
     "elapsed": 1002,
     "status": "ok",
     "timestamp": 1576704177781,
     "user": {
      "displayName": "Kyle Kelley",
      "photoUrl": "",
      "userId": "00048841382213338300"
     },
     "user_tz": 300
    },
    "id": "Hzub3UabDdU_",
    "outputId": "4c75dca8-88dc-4b64-8460-d7435b78b69b"
   },
   "outputs": [],
   "source": [
    "#Calculate relaxation line averages, vertically\n",
    "\n",
    "from scipy.ndimage import rotate\n",
    "mat_avg1 = []\n",
    "\n",
    "for ii in range(128):\n",
    "  rotated_mat1 = rotate(amp_mat_OF_ndim[20:,:40,1,ii],-5)\n",
    "  rotated_mat1 = rotated_mat1[4:-5, 4:-3]\n",
    "  mat_avg1.append(rotated_mat1.mean(axis=0))"
   ]
  },
  {
   "cell_type": "code",
   "execution_count": null,
   "metadata": {
    "colab": {
     "base_uri": "https://localhost:8080/",
     "height": 811
    },
    "colab_type": "code",
    "executionInfo": {
     "elapsed": 904,
     "status": "ok",
     "timestamp": 1576704111328,
     "user": {
      "displayName": "Kyle Kelley",
      "photoUrl": "",
      "userId": "00048841382213338300"
     },
     "user_tz": 300
    },
    "id": "b3FARKdmHQHL",
    "outputId": "d3ae87ca-78c5-47c5-aa2e-100162c0522f"
   },
   "outputs": [],
   "source": [
    "plt.figure()\n",
    "plt.imshow(rotated_mat1);\n",
    "\n",
    "plt.figure()\n",
    "plt.plot(mat_avg1[127,:], '-o');\n",
    "\n",
    "a = np.arange(0,128)*time_per_step\n",
    "\n",
    "plt.figure(figsize=(5,4))\n",
    "plt.plot(a[1:],mat_avg1[1:,12:17],'-o', markersize = 3);\n",
    "plt.xlim(-0.03,1)\n",
    "plt.ylabel('PR Amplitude [pm]', fontsize = 18)\n",
    "plt.xlabel('Time [s]',fontsize = 18)\n",
    "plt.xticks(size = 16)\n",
    "plt.yticks(size = 16)\n",
    "plt.tight_layout()"
   ]
  },
  {
   "cell_type": "code",
   "execution_count": null,
   "metadata": {
    "colab": {
     "base_uri": "https://localhost:8080/",
     "height": 787
    },
    "colab_type": "code",
    "executionInfo": {
     "elapsed": 2423,
     "status": "ok",
     "timestamp": 1576705942134,
     "user": {
      "displayName": "Kyle Kelley",
      "photoUrl": "",
      "userId": "00048841382213338300"
     },
     "user_tz": 300
    },
    "id": "TPyqI6ptizIu",
    "outputId": "41eb3073-3771-47e4-ae00-085c48a253fc"
   },
   "outputs": [],
   "source": [
    "row=2\n",
    "plt.figure()\n",
    "mat = factors[0][:,row].reshape(pos_dim_sizes)/(np.max(factors[0][:,row]))\n",
    "plt.imshow(mat[25:,:40])\n",
    "\n",
    "mat_cropped = mat[25:,:44]\n",
    "mat_cropped = rotate(mat[20:,:45], angle = -6)[5:40,3:39]\n",
    "mat_averaged = mat_cropped.mean(axis=0)\n",
    "\n",
    "plt.figure()\n",
    "plt.imshow(mat_cropped,clim = (0.0,0.6))\n",
    "plt.colorbar()\n",
    "plt.axis('off')\n",
    "plt.savefig('zoom_abd3.pdf', dpi =600)\n",
    "files.download(\"zoom_abd3.pdf\")\n",
    "\n",
    "spat_step = 1200/60\n",
    "step_ = np.linspace(0,mat_averaged.shape[0],mat_averaged.shape[0])*spat_step\n",
    "\n",
    "plt.figure()\n",
    "plt.plot(step_,mat_averaged, label = 'Averaged Profile', color = 'red', linewidth = 3)\n",
    "plt.xlabel('X Position [nm]',fontsize = 18)\n",
    "plt.ylabel('Comp. 3 Abund. [a.u.]', fontsize = 18,labelpad = 0)\n",
    "plt.xticks(size = 14)\n",
    "plt.yticks(size = 14)\n",
    "plt.legend(frameon = False)\n",
    "plt.tight_layout()"
   ]
  },
  {
   "cell_type": "code",
   "execution_count": null,
   "metadata": {
    "colab": {
     "base_uri": "https://localhost:8080/",
     "height": 34
    },
    "colab_type": "code",
    "executionInfo": {
     "elapsed": 124147,
     "status": "ok",
     "timestamp": 1576689837999,
     "user": {
      "displayName": "Kyle Kelley",
      "photoUrl": "",
      "userId": "00048841382213338300"
     },
     "user_tz": 300
    },
    "id": "uefsP_R70zbL",
    "outputId": "c2b816f3-250a-4f91-866b-f5e9a6603352"
   },
   "outputs": [],
   "source": [
    "#NTF error\n",
    "\n",
    "X = tl.tensor(data)\n",
    "norm_tensor = tl.norm(X, 2)\n",
    "rec_error = tl.norm(X - tl.kruskal_to_tensor([weights,factors]), 2) / norm_tensor\n",
    "\n",
    "print('NTF Error: ' +str(rec_error*100) +'%')"
   ]
  },
  {
   "cell_type": "code",
   "execution_count": null,
   "metadata": {
    "colab": {
     "base_uri": "https://localhost:8080/",
     "height": 316
    },
    "colab_type": "code",
    "executionInfo": {
     "elapsed": 124335,
     "status": "ok",
     "timestamp": 1576689838353,
     "user": {
      "displayName": "Kyle Kelley",
      "photoUrl": "",
      "userId": "00048841382213338300"
     },
     "user_tz": 300
    },
    "id": "WXF9jOR4C3tR",
    "outputId": "298222e4-c625-478e-9e3a-4e2c401b048b"
   },
   "outputs": [],
   "source": [
    "#Calculates relaxation times for user defined row in NTF results\n",
    "row = 0\n",
    "\n",
    "def func(x, a, c, d, f, g):\n",
    "    return a*np.exp(-c*x) + f*np.exp(-g*x) + d \n",
    "  \n",
    "def fun_stretch(x,a,b,d):\n",
    "    return a*np.exp(-x**b) +d\n",
    "\n",
    "x = time_vec_OF[1:]  \n",
    "y = factors[2][1:,row]\n",
    "popt, pcov = curve_fit(fun_stretch, x, y, p0=(-1e-3,2.1,0),maxfev = 100000, absolute_sigma = True)\n",
    "yy=fun_stretch(x,*popt)\n",
    "\n",
    "popt1, pcov1 = curve_fit(func, x, y,p0=(1e-1, 10, 0,1,1),maxfev = 100000, absolute_sigma = True)\n",
    "yy1=func(x,*popt1)\n",
    "\n",
    "plt.figure()\n",
    "plt.plot(time_vec_OF, factors[2][:,row], 'o', color = 'red', label = 'Raw')\n",
    "# plt.plot(x,yy*100, '-', color = 'black', label = 'Two Exp Fit')\n",
    "plt.plot(x,yy1, '--', color = 'black', label = 'Two Exp Fit')\n",
    "\n",
    "t1 = 1/popt1[1]\n",
    "\n",
    "t2 = 1/popt1[4]\n",
    "\n",
    "print('t1 ' + str(t1) +'and t2 ' + str(t2))"
   ]
  },
  {
   "cell_type": "code",
   "execution_count": null,
   "metadata": {
    "colab": {
     "base_uri": "https://localhost:8080/",
     "height": 582
    },
    "colab_type": "code",
    "executionInfo": {
     "elapsed": 125252,
     "status": "ok",
     "timestamp": 1576689839426,
     "user": {
      "displayName": "Kyle Kelley",
      "photoUrl": "",
      "userId": "00048841382213338300"
     },
     "user_tz": 300
    },
    "id": "2m3VucVgYXuq",
    "outputId": "eda64ef9-447c-4ee1-aebf-a19d3102c853"
   },
   "outputs": [],
   "source": [
    "#Plots difference map of -15V and +15V\n",
    "\n",
    "cut =15\n",
    "  \n",
    "PR_diff = (PR_mat_OF_ndim[:,:,0,0] - PR_mat_OF_ndim[:,:,8,0]) - (PR_mat_OF_ndim[:,:,0,127] - PR_mat_OF_ndim[:,:,8,127]) #plot as a function of time\n",
    "\n",
    "fig, axes = plt.subplots(nrows=2,ncols=3, figsize = (16,10))\n",
    "\n",
    "im = axes[0,1].imshow(-1*amp_mat_OF_ndim[cut:,cut:,0,0] + amp_mat_OF_ndim[cut:,cut:,8,0])\n",
    "divider = make_axes_locatable(axes[0,1])\n",
    "cax = divider.append_axes(\"right\", size=\"5%\", pad=0.08) #space for colorbar\n",
    "plt.colorbar(im, cax = cax)\n",
    "axes[0,1].axis('off')\n",
    "\n",
    "im = axes[0,2].imshow((-1*phase_mat_OF_ndim[cut:,cut:,0,127] + phase_mat_OF_ndim[cut:,cut:,8,127])*180/np.pi, clim = (10,-190))\n",
    "divider = make_axes_locatable(axes[0,2])\n",
    "cax = divider.append_axes(\"right\", size=\"5%\", pad=0.08) #space for colorbar\n",
    "plt.colorbar(im, cax = cax)\n",
    "axes[0,2].axis('off')\n",
    "\n",
    "im = axes[0,0].imshow(PR_mat_OF_ndim[cut:,cut:,0,0], clim = (-100,20))\n",
    "divider = make_axes_locatable(axes[0,0])\n",
    "cax = divider.append_axes(\"right\", size=\"5%\", pad=0.08) #space for colorbar\n",
    "plt.colorbar(im, cax = cax)\n",
    "axes[0,0].axis('off')\n",
    "\n",
    "for row in range(3):\n",
    "  derp =factors[0][:,row].reshape(pos_dim_sizes)  \n",
    "  im = axes[1,row].imshow(derp[cut:,cut:]/(np.max(derp[cut:,cut:])),clim = (0,1))\n",
    "  if row ==0:\n",
    "      im = axes[1,row].imshow(derp[cut:,cut:]/(np.max(derp[cut:,cut:])),clim = (0,1))\n",
    "  axes[1,row].axis('off')  \n",
    "  divider = make_axes_locatable(axes[1,row])\n",
    "  cax = divider.append_axes(\"right\", size=\"5%\", pad=0.08) #space for colorbar\n",
    "  plt.colorbar(im, cax = cax)"
   ]
  },
  {
   "cell_type": "code",
   "execution_count": null,
   "metadata": {
    "colab": {
     "base_uri": "https://localhost:8080/",
     "height": 34
    },
    "colab_type": "code",
    "executionInfo": {
     "elapsed": 125096,
     "status": "ok",
     "timestamp": 1576689839427,
     "user": {
      "displayName": "Kyle Kelley",
      "photoUrl": "",
      "userId": "00048841382213338300"
     },
     "user_tz": 300
    },
    "id": "UI0ZiNVD1qSN",
    "outputId": "fe1786d8-6301-4a00-c8a3-09ee2defcd89"
   },
   "outputs": [],
   "source": [
    "PR_mat_OF_ndim.shape\n",
    "data1 = tl.tensor(PR_mat_OF_ndim[:,:,:,:].reshape(PR_mat.shape[0],PR_mat_OF_ndim.shape[2],PR_mat_OF_ndim.shape[3] ))\n",
    "data1 = data1.reshape(3600,16*128)\n",
    "data1.shape"
   ]
  },
  {
   "cell_type": "code",
   "execution_count": null,
   "metadata": {
    "colab": {
     "base_uri": "https://localhost:8080/",
     "height": 275
    },
    "colab_type": "code",
    "executionInfo": {
     "elapsed": 198415,
     "status": "ok",
     "timestamp": 1576689912874,
     "user": {
      "displayName": "Kyle Kelley",
      "photoUrl": "",
      "userId": "00048841382213338300"
     },
     "user_tz": 300
    },
    "id": "wTufHqWd5UTc",
    "outputId": "11782a30-9349-4344-fd25-99e0acc353ab"
   },
   "outputs": [],
   "source": [
    "#KMEANS cluster data - take average of cluster locations\n",
    "\n",
    "clusters = 5\n",
    "\n",
    "data1 = tl.tensor(PR_mat_OF_ndim[:,:,:,:].reshape(PR_mat.shape[0],PR_mat_OF_ndim.shape[2]*PR_mat_OF_ndim.shape[3] ))\n",
    "data_res = tl.tensor(PR_mat_OF_ndim[:,:,:,:].reshape(PR_mat.shape[0],PR_mat_OF_ndim.shape[2],PR_mat_OF_ndim.shape[3] ))\n",
    "data1 = scipy.cluster.vq.whiten(data1[:,:]) #data1[1] = 6 corresponds to 15V pulse\n",
    "centroids,_  = scipy.cluster.vq.kmeans(data1,clusters,iter = 100)\n",
    "\n",
    "clx,_ = vq(data1,centroids)\n",
    "\n",
    "derp = np.reshape(clx,(60,60))\n",
    "\n",
    "cmap = ListedColormap(['blue', 'orange', '0.8', 'green','red'])\n",
    "cmaplist = [cmap(i) for i in range(cmap.N)]\n",
    "cmap = mpl.colors.LinearSegmentedColormap.from_list('Custom cmap', cmaplist, cmap.N)\n",
    "bounds = np.linspace(0,5,6)\n",
    "norm = mpl.colors.BoundaryNorm(bounds, cmap.N)\n",
    "\n",
    "plt.figure()\n",
    "plt.imshow(derp, cmap = cmap, norm = norm)\n",
    "plt.axis('off')\n",
    "plt.colorbar(cmap =cmap,boundaries = bounds, norm = norm)"
   ]
  },
  {
   "cell_type": "code",
   "execution_count": null,
   "metadata": {
    "colab": {
     "base_uri": "https://localhost:8080/",
     "height": 1000
    },
    "colab_type": "code",
    "executionInfo": {
     "elapsed": 201477,
     "status": "ok",
     "timestamp": 1576689916224,
     "user": {
      "displayName": "Kyle Kelley",
      "photoUrl": "",
      "userId": "00048841382213338300"
     },
     "user_tz": 300
    },
    "id": "8zcQS143qou9",
    "outputId": "dee6a830-b38a-4483-e562-cefc39165359"
   },
   "outputs": [],
   "source": [
    "#Plot average of individual kmeans clusters\n",
    "stoppt = 128 #number of time loops in graph\n",
    "\n",
    "data_res = tl.tensor(PR_mat_OF_ndim[:,:,:,:].reshape(PR_mat.shape[0],PR_mat_OF_ndim.shape[2],PR_mat_OF_ndim.shape[3] ))\n",
    "\n",
    "comp0 = []\n",
    "comp1 = []\n",
    "comp2 = []\n",
    "comp3 = []\n",
    "comp4 = []\n",
    "\n",
    "for iii in range(data_res.shape[0]):\n",
    "  if clx[iii] == 0:\n",
    "    comp0.append(data_res[iii,:,:])\n",
    "  if clx[iii] == 1:\n",
    "    comp1.append(data_res[iii,:,:])\n",
    "  if clx[iii] == 2:\n",
    "    comp2.append(data_res[iii,:,:])\n",
    "  if clx[iii] == 3:\n",
    "    comp3.append(data_res[iii,:,:])\n",
    "  if clx[iii] == 4:\n",
    "    comp4.append(data_res[iii,:,:])\n",
    "\n",
    "compnum = [comp0,comp1,comp2,comp3,comp4]\n",
    "\n",
    "for ij in range(5):\n",
    "  comp2avg = []\n",
    "  comp2r = np.array(compnum[ij])\n",
    "\n",
    "  for ii in range(comp2r.shape[1]):\n",
    "    for jj in range(comp2r.shape[2]):\n",
    "      comp2avg.append(np.mean(comp2r[:,ii,jj]))\n",
    "\n",
    "  comp2avg = np.reshape(np.array(comp2avg), (16,128))\n",
    "  colors = plt.cm.get_cmap('viridis',128)\n",
    "\n",
    "\n",
    "  plt.figure(figsize=(5,4))\n",
    "  for aa in range(stoppt):\n",
    "    plt.plot(dc_vec_unique_arr,comp2avg[:,aa], color = colors(aa/(stoppt*1.08)))\n",
    "  plt.ylim(-70,40)\n",
    "  plt.ylabel('Piezoresponse [pm]', size = 18)\n",
    "  plt.xlabel('Voltage [V]', size = 18)\n",
    "  plt.xticks(size = 16)\n",
    "  plt.yticks(size = 16)\n",
    "  plt.tight_layout()\n"
   ]
  },
  {
   "cell_type": "code",
   "execution_count": null,
   "metadata": {
    "colab": {
     "base_uri": "https://localhost:8080/",
     "height": 555
    },
    "colab_type": "code",
    "executionInfo": {
     "elapsed": 203396,
     "status": "ok",
     "timestamp": 1576689918383,
     "user": {
      "displayName": "Kyle Kelley",
      "photoUrl": "",
      "userId": "00048841382213338300"
     },
     "user_tz": 300
    },
    "id": "S0mTkWwD6xoE",
    "outputId": "2fa8fa80-0620-41be-db41-cb5f1747b411"
   },
   "outputs": [],
   "source": [
    "#Plots spatial defined line of piezoresponse vs voltage in a range of relaxation times \n",
    "\n",
    "derp1 = []\n",
    "start_xpix_i = 2\n",
    "yrow_pix_i = 49\n",
    "line_length = 8\n",
    "num_time_step = 128 #essentially number of loops to look at\n",
    "num_time_step_interval = 8\n",
    "\n",
    "r_data = PR_mat_OF_ndim\n",
    "derp = np.reshape(clx,(60,60))\n",
    "\n",
    "c = 'blue'\n",
    "a = 'orange'\n",
    "b = '0.8'\n",
    "d = 'green'\n",
    "\n",
    "cmap = ListedColormap(['0.8','orangered' , 'blue', 'green','orange'])\n",
    "cmaplist = [cmap(i) for i in range(cmap.N)]\n",
    "cmap = mpl.colors.LinearSegmentedColormap.from_list('Custom cmap', cmaplist, cmap.N)\n",
    "bounds = np.linspace(0,5,6)\n",
    "norm = mpl.colors.BoundaryNorm(bounds, cmap.N)\n",
    "\n",
    "fig, axes = plt.subplots(nrows=1,ncols=8, figsize = (20,4)) # Change subplot size with line size\n",
    "axes = axes.flatten()\n",
    "\n",
    "for jj in range(line_length):   #chooses the pixels to examine - swith x and y of PR mat to change to vertical\n",
    "  derp1.append(r_data[yrow_pix_i,start_xpix_i+jj,:,:num_time_step]) # saves a subset of PR_mat_OF_ndim as derp1 - its the line\n",
    "derp1 = np.array(derp1)\n",
    "im = ax.imshow(np.random.random((16, 16)), cmap='viridis',vmin=0, vmax=0.77)\n",
    "colors = plt.cm.get_cmap('viridis',PR_mat_OF_ndim.shape[2])\n",
    "\n",
    "stop = int(num_time_step/num_time_step_interval)\n",
    "\n",
    "for ii in range(derp1.shape[0]): #plots the hystersis loops of the line - ii steps through pixel, z steps through time\n",
    "    for z in range(stop):\n",
    "      axes[ii].plot(dc_vec_unique_arr[:],derp1[ii,:,z*num_time_step_interval] , color = colors(z))     \n",
    "    axes[ii].set_xlabel('Voltage [V]')\n",
    "    plt.title('Pixel Number ' + str(start_xpix_i+ ii))\n",
    "fig.tight_layout()\n",
    "fig.colorbar(im,ax=axes.ravel().tolist(), shrink=0.8)\n",
    "\n",
    "n_linex_i = np.arange(start_xpix_i, start_xpix_i+jj,1)  \n",
    "n_liney_i = np.full(jj,yrow_pix_i)\n",
    "\n",
    "plt.figure()\n",
    "plt.imshow(derp, cmap = cmap, norm = norm)\n",
    "plt.plot(n_linex_i,n_liney_i, color='white', linewidth = 2)\n",
    "plt.axis('off')\n",
    "plt.colorbar(cmap =cmap,boundaries = bounds, norm = norm)"
   ]
  },
  {
   "cell_type": "code",
   "execution_count": null,
   "metadata": {
    "colab": {
     "base_uri": "https://localhost:8080/",
     "height": 223
    },
    "colab_type": "code",
    "executionInfo": {
     "elapsed": 224023,
     "status": "ok",
     "timestamp": 1576689939166,
     "user": {
      "displayName": "Kyle Kelley",
      "photoUrl": "",
      "userId": "00048841382213338300"
     },
     "user_tz": 300
    },
    "id": "SuRMmpSEuZNw",
    "outputId": "687f49c9-23a1-4ec8-baf4-df296062c2c5"
   },
   "outputs": [],
   "source": [
    "#cluster all data\n",
    "\n",
    "clusters = 4\n",
    "\n",
    "data1 = tl.tensor(PR_mat_OF_ndim[:,:,:,:].reshape(PR_mat.shape[0],PR_mat_OF_ndim.shape[2],PR_mat_OF_ndim.shape[3] ))\n",
    "data_res = data1\n",
    "fig, axes = plt.subplots(nrows=1,ncols=5, figsize = (20,20))\n",
    "axes = axes.flatten()\n",
    "\n",
    "for volt_step in range(5):\n",
    "  data1 = scipy.cluster.vq.whiten(data_res[:,volt_step*2,:])\n",
    "  centroids,_  = scipy.cluster.vq.kmeans(data1,clusters,iter = 100)\n",
    "\n",
    "  clx,_ = vq(data1,centroids)\n",
    "\n",
    "  derp = np.reshape(clx,(60,60))\n",
    "\n",
    "  im = axes[volt_step].imshow(derp, cmap = 'viridis')\n",
    "  axes[volt_step].axis('off')"
   ]
  },
  {
   "cell_type": "code",
   "execution_count": null,
   "metadata": {
    "colab": {
     "base_uri": "https://localhost:8080/",
     "height": 297
    },
    "colab_type": "code",
    "executionInfo": {
     "elapsed": 224516,
     "status": "ok",
     "timestamp": 1576689939858,
     "user": {
      "displayName": "Kyle Kelley",
      "photoUrl": "",
      "userId": "00048841382213338300"
     },
     "user_tz": 300
    },
    "id": "wnxlU9XEwfAC",
    "outputId": "3918cec2-1bad-4bb3-f68f-2a9ca7a73627"
   },
   "outputs": [],
   "source": [
    "comp2avg = []\n",
    "comp2r = np.array(comp4)\n",
    "\n",
    "for ii in range(comp2r.shape[1]):\n",
    "  for jj in range(comp2r.shape[2]):\n",
    "    comp2avg.append(np.mean(comp2r[:,ii,jj]))\n",
    "\n",
    "comp2avg = np.array(comp2avg)\n",
    "\n",
    "comp2avg = np.reshape(comp2avg, (16,128))\n",
    "\n",
    "colors = plt.cm.get_cmap('plasma',128)\n",
    "\n",
    "stoppt = 128\n",
    "\n",
    "plt.figure()\n",
    "for aa in range(stoppt):\n",
    "  plt.plot(dc_vec_unique_arr,comp2avg[:,aa], color = colors(aa/(stoppt)))\n",
    "plt.ylim(-70,70)\n",
    "plt.ylabel('Piezoresponse [pm]', size = 18)\n",
    "plt.xlabel('Voltage [V]', size = 18)\n",
    "plt.xticks(size = 16)\n",
    "plt.yticks(size = 16)\n",
    "plt.tight_layout()"
   ]
  },
  {
   "cell_type": "code",
   "execution_count": null,
   "metadata": {
    "colab": {
     "base_uri": "https://localhost:8080/",
     "height": 282
    },
    "colab_type": "code",
    "executionInfo": {
     "elapsed": 224592,
     "status": "ok",
     "timestamp": 1576689940074,
     "user": {
      "displayName": "Kyle Kelley",
      "photoUrl": "",
      "userId": "00048841382213338300"
     },
     "user_tz": 300
    },
    "id": "CSS_sBKvAgvl",
    "outputId": "513349a4-d87f-469b-c748-3b48b8cc1ee1"
   },
   "outputs": [],
   "source": [
    "def func(x, a, c, d, f, g):\n",
    "    return a*np.exp(-c*x) + f*np.exp(-g*x) + d \n",
    "\n",
    "row = 0\n",
    "x = time_vec_OF[2:]  \n",
    "y = factors[2][2:,row]\n",
    "popt, pcov = curve_fit(func, x, y, p0=(1e-1, 10, 0,1,1),maxfev = 100000, absolute_sigma = True)\n",
    "yy=func(x,*popt)\n",
    "\n",
    "plt.figure()\n",
    "plt.plot(time_vec_OF, factors[2][:,row]*100)\n",
    "plt.plot(x,yy*100, '--', color = 'black', label = 'Two Exp Fit')"
   ]
  },
  {
   "cell_type": "markdown",
   "metadata": {
    "colab_type": "text",
    "id": "aeRAguG0AIx1"
   },
   "source": [
    "We now try the in-field full piezoresponse"
   ]
  },
  {
   "cell_type": "code",
   "execution_count": null,
   "metadata": {
    "colab": {
     "base_uri": "https://localhost:8080/",
     "height": 721
    },
    "colab_type": "code",
    "executionInfo": {
     "elapsed": 227725,
     "status": "ok",
     "timestamp": 1576689943556,
     "user": {
      "displayName": "Kyle Kelley",
      "photoUrl": "",
      "userId": "00048841382213338300"
     },
     "user_tz": 300
    },
    "id": "zFnRDgWm9YZn",
    "outputId": "400174f6-b56f-41db-c2c3-8492a859246a"
   },
   "outputs": [],
   "source": [
    "num_ranks = 3\n",
    "\n",
    "data = tl.tensor(PR_mat_IF_ndim[:,:,:,:].reshape(PR_mat.shape[0],PR_mat_IF_ndim.shape[2],PR_mat_IF_ndim.shape[3] ))\n",
    "weights, factors = non_negative_parafac(data, rank=num_ranks)\n",
    "fig, axes = plt.subplots(nrows = num_ranks, ncols = 3, figsize = (10,10))\n",
    "\n",
    "for row in range(num_ranks):\n",
    "    im = axes[row,0].imshow(factors[0][:,row].reshape(pos_dim_sizes))\n",
    "    divider = make_axes_locatable(axes[row,0])\n",
    "    cax = divider.append_axes(\"right\", size=\"5%\", pad=0.08) #space for colorbar\n",
    "    plt.colorbar(im, cax = cax)\n",
    "    axes[row,1].plot(dc_vec_unique_arr, factors[1][:,row])\n",
    "    axes[row,1].set_title('Voltage')\n",
    "    axes[row,2].plot(time_vec_IF, factors[2][:,row])\n",
    "    axes[row,2].set_title('Time')\n",
    "fig.tight_layout()\n",
    "\n",
    "fig.tight_layout(rect=[0, 0.03, 1, 0.95])\n",
    "fig.suptitle('All voltages relaxations In-field', fontsize = 18)"
   ]
  },
  {
   "cell_type": "markdown",
   "metadata": {
    "colab_type": "text",
    "id": "FDyCgbojAMNh"
   },
   "source": [
    "Now let's look at the raw piezoreponse amplitude off-field"
   ]
  },
  {
   "cell_type": "code",
   "execution_count": null,
   "metadata": {
    "colab": {
     "base_uri": "https://localhost:8080/",
     "height": 721
    },
    "colab_type": "code",
    "executionInfo": {
     "elapsed": 237303,
     "status": "ok",
     "timestamp": 1576689954503,
     "user": {
      "displayName": "Kyle Kelley",
      "photoUrl": "",
      "userId": "00048841382213338300"
     },
     "user_tz": 300
    },
    "id": "x66PwMzG9YZp",
    "outputId": "1746284d-43d8-455d-a8a7-4d790afa8a89"
   },
   "outputs": [],
   "source": [
    "num_ranks = 4\n",
    "\n",
    "data = tl.tensor(amp_mat_OF_ndim[:,:,:,:].reshape(PR_mat.shape[0],PR_mat_OF_ndim.shape[2],PR_mat_OF_ndim.shape[3] ))\n",
    "weights, factors = non_negative_parafac(data, rank=num_ranks)\n",
    "fig, axes = plt.subplots(nrows = num_ranks, ncols = 3, figsize = (10,10))\n",
    "\n",
    "for row in range(num_ranks):\n",
    "    im = axes[row,0].imshow(factors[0][:,row].reshape(pos_dim_sizes))\n",
    "    divider = make_axes_locatable(axes[row,0])\n",
    "    cax = divider.append_axes(\"right\", size=\"5%\", pad=0.08) #space for colorbar\n",
    "    plt.colorbar(im, cax = cax)\n",
    "    axes[row,1].plot(dc_vec_unique_arr, factors[1][:,row])\n",
    "    axes[row,1].set_title('Voltage')\n",
    "    axes[row,2].plot(time_vec_OF, factors[2][:,row])\n",
    "    axes[row,2].set_title('Time')\n",
    "fig.tight_layout()\n",
    "\n",
    "fig.tight_layout(rect=[0, 0.03, 1, 0.95])\n",
    "fig.suptitle('All voltages Amp relaxations Off-field', fontsize = 18)"
   ]
  },
  {
   "cell_type": "markdown",
   "metadata": {
    "colab_type": "text",
    "id": "5GA-saCy9YZq"
   },
   "source": [
    "# Plot hysteresis loops as a function of time, voltage and space\n",
    "\n",
    "To see the data a bit better, let us also just plot all the loops on the grid. **This may take some time to plot!**"
   ]
  },
  {
   "cell_type": "code",
   "execution_count": null,
   "metadata": {
    "colab": {
     "base_uri": "https://localhost:8080/",
     "height": 1000
    },
    "colab_type": "code",
    "executionInfo": {
     "elapsed": 306895,
     "status": "ok",
     "timestamp": 1576690024454,
     "user": {
      "displayName": "Kyle Kelley",
      "photoUrl": "",
      "userId": "00048841382213338300"
     },
     "user_tz": 300
    },
    "id": "rXk38FRd9YZr",
    "outputId": "6146e1f1-29d2-45bc-8105-34cb73a0d890"
   },
   "outputs": [],
   "source": [
    "#Let's plot hysteresis loops as a function of time\n",
    "\n",
    "PR_mat_OF_ndim = PR_mat_OF.reshape(pos_dim_sizes[0], pos_dim_sizes[1],num_dc_voltages,-1)\n",
    "fig, axes = plt.subplots(nrows=30,ncols=30, figsize = (30,30))\n",
    "\n",
    "colors = plt.cm.get_cmap('viridis',PR_mat_OF_ndim.shape[-1])\n",
    "\n",
    "indices_col = np.tile(np.arange(0,pos_dim_sizes[0],step = 2), pos_dim_sizes[1])\n",
    "indices_row = np.repeat(np.arange(0,pos_dim_sizes[0],step = 2), pos_dim_sizes[1])\n",
    "\n",
    "for ind, ax in enumerate(axes.flat):\n",
    "    pix_index_col = indices_col[ind]\n",
    "    pix_index_row = indices_row[ind]\n",
    "    for i in range(PR_mat_OF_ndim.shape[-1]-110):\n",
    "        ax.plot(dc_vec_unique_arr,PR_mat_OF_ndim[pix_index_col,pix_index_row,:,i], color = colors(i))\n",
    "        ax.axis('off')"
   ]
  },
  {
   "cell_type": "markdown",
   "metadata": {
    "colab_type": "text",
    "id": "ecnC5C_u9YZt"
   },
   "source": [
    "# Perform NMF\n",
    "\n",
    "Finally, do some NMF for comparison purposes"
   ]
  },
  {
   "cell_type": "code",
   "execution_count": null,
   "metadata": {
    "colab": {},
    "colab_type": "code",
    "id": "IRFKb_-79YZt"
   },
   "outputs": [],
   "source": [
    "#Now let's do NMF instead\n",
    "amp_mat_OF_flat = amp_mat_OF_ndim.reshape(np.prod(pos_dim_sizes)*amp_mat_OF_ndim.shape[-2],amp_mat_OF_ndim.shape[-1])\n",
    "num_comps = 4\n",
    "nmf = NMF(n_components=num_comps, max_iter=1000)\n",
    "\n",
    "nmf.fit(amp_mat_OF_flat)\n",
    "components = nmf.components_\n",
    "projections =nmf.fit_transform(amp_mat_OF_flat)\n",
    "projections_reshaped = projections.reshape(pos_dim_sizes[0],pos_dim_sizes[1],-1, num_comps)"
   ]
  },
  {
   "cell_type": "code",
   "execution_count": null,
   "metadata": {
    "colab": {
     "base_uri": "https://localhost:8080/",
     "height": 34
    },
    "colab_type": "code",
    "executionInfo": {
     "elapsed": 378975,
     "status": "ok",
     "timestamp": 1576690097150,
     "user": {
      "displayName": "Kyle Kelley",
      "photoUrl": "",
      "userId": "00048841382213338300"
     },
     "user_tz": 300
    },
    "id": "KzGL7nr_WQKi",
    "outputId": "7d5e6f4f-c7b2-442e-cbbe-a5db13722b29"
   },
   "outputs": [],
   "source": [
    "from sklearn.decomposition.nmf import _beta_divergence\n",
    "\n",
    "nmf.reconstruction_err_"
   ]
  },
  {
   "cell_type": "code",
   "execution_count": null,
   "metadata": {
    "colab": {
     "base_uri": "https://localhost:8080/",
     "height": 857
    },
    "colab_type": "code",
    "executionInfo": {
     "elapsed": 380163,
     "status": "ok",
     "timestamp": 1576690098515,
     "user": {
      "displayName": "Kyle Kelley",
      "photoUrl": "",
      "userId": "00048841382213338300"
     },
     "user_tz": 300
    },
    "id": "F4u3z9AYIYKL",
    "outputId": "9b0dfdcf-a826-402a-b427-dd3eb0442b41"
   },
   "outputs": [],
   "source": [
    "fig, axes = plt.subplots(nrows=1,ncols=4, figsize = (20,4))\n",
    "a = np.arange(0,128)*time_per_step\n",
    "\n",
    "for ind, ax in enumerate(axes.flat):\n",
    "    ax.plot(a,components[ind,:], '-o', markersize = 4, color = 'red')\n",
    "    ax.set_xlabel('Time', size = 16)\n",
    "    ax.tick_params(labelsize=16)\n",
    "fig.tight_layout()\n",
    "\n",
    "fig, axes = plt.subplots(nrows=1,ncols=4, figsize = (18,4))\n",
    "\n",
    "for ind, ax in enumerate(axes.flat):\n",
    "    ax.imshow(projections_reshaped[:,:,0,ind])\n",
    "    ax.axis('off')   \n",
    "fig.tight_layout()\n",
    "\n",
    "fig, axes = plt.subplots(nrows=1,ncols=4,figsize = (18,4))\n",
    "\n",
    "for ind, ax in enumerate(axes.flat):\n",
    "    ax.imshow(projections_reshaped[:,:,7,ind])\n",
    "    ax.axis('off')   \n",
    "fig.tight_layout()\n"
   ]
  }
 ],
 "metadata": {
  "colab": {
   "collapsed_sections": [],
   "name": "Copy of ldv analysis relax pto v2.ipynb",
   "provenance": [
    {
     "file_id": "1otF3jMz45R1gUwOOQ3nzpR9luRYftxs0",
     "timestamp": 1569340383704
    }
   ]
  },
  "kernelspec": {
   "display_name": "Python 3",
   "language": "python",
   "name": "python3"
  },
  "language_info": {
   "codemirror_mode": {
    "name": "ipython",
    "version": 3
   },
   "file_extension": ".py",
   "mimetype": "text/x-python",
   "name": "python",
   "nbconvert_exporter": "python",
   "pygments_lexer": "ipython3",
   "version": "3.7.6"
  }
 },
 "nbformat": 4,
 "nbformat_minor": 1
}
